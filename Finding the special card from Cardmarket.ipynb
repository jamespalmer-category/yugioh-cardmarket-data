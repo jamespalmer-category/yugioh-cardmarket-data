{
 "cells": [
  {
   "cell_type": "code",
   "execution_count": 1,
   "id": "662dbcf6",
   "metadata": {},
   "outputs": [],
   "source": [
    "import requests\n",
    "import numpy as np\n",
    "import pandas as pd\n",
    "from bs4 import BeautifulSoup\n",
    "import re\n",
    "import os"
   ]
  },
  {
   "cell_type": "code",
   "execution_count": 2,
   "id": "98f078bc",
   "metadata": {},
   "outputs": [],
   "source": [
    "cardmarket_result = requests.get('https://yugipedia.com/wiki/Duel_Overload')\n",
    "src = cardmarket_result.content\n",
    "soup = BeautifulSoup(src, 'html.parser')"
   ]
  },
  {
   "cell_type": "code",
   "execution_count": 5,
   "id": "f6d95e0a",
   "metadata": {},
   "outputs": [
    {
     "name": "stdout",
     "output_type": "stream",
     "text": [
      "<class 'bs4.element.Tag'>\n"
     ]
    }
   ],
   "source": [
    "set_name = soup.find('h1')\n",
    "print(type(set_name))"
   ]
  },
  {
   "cell_type": "code",
   "execution_count": 9,
   "id": "b2b5098c",
   "metadata": {},
   "outputs": [],
   "source": [
    "re_set_name = 'YuGiOh-Championship-Series-Prize-Cards'\n",
    "\n",
    "#Check for pre-release prize cards (/ other special cards?)\n",
    "cardmarket_result = requests.get('https://www.cardmarket.com/en/YuGiOh/Products/Singles/{}?sortBy=collectorsnumber_asc'.format(re_set_name))\n",
    "src = cardmarket_result.content\n",
    "soup = BeautifulSoup(src, 'html.parser')\n",
    "card_price_info = soup.find_all(attrs = {'class':'col'})\n",
    "names = []\n",
    "links = []\n",
    "for entry in card_price_info:\n",
    "    if entry.find('a') != None:\n",
    "        cardmarket_url = entry.find('a')\n",
    "        if (cardmarket_url.attrs['href'] != 'https://www.facebook.com/CardmarketYugioh') and (cardmarket_url.attrs['href'] != '/en/YuGiOh/Policies/GeneralTermsAndConditions'):\n",
    "            links.append('https://www.cardmarket.com/' + cardmarket_url.attrs['href'])\n",
    "\n",
    "\n",
    "    if entry.find(attrs = {'class' : 'col-10 col-md-8 px-2 flex-column align-items-start justify-content-center'}) != None:\n",
    "        name = entry.find(attrs = {'class' : 'col-10 col-md-8 px-2 flex-column align-items-start justify-content-center'})\n",
    "        print\n",
    "        if name.text != 'Name':\n",
    "            re_name = re.sub('\\\"','', name.text)\n",
    "            names.append(re_name)"
   ]
  },
  {
   "cell_type": "code",
   "execution_count": 6,
   "id": "1fde977d",
   "metadata": {},
   "outputs": [
    {
     "ename": "NameError",
     "evalue": "name 'names' is not defined",
     "output_type": "error",
     "traceback": [
      "\u001b[1;31m---------------------------------------------------------------------------\u001b[0m",
      "\u001b[1;31mNameError\u001b[0m                                 Traceback (most recent call last)",
      "\u001b[1;32m<ipython-input-6-49d1f1a1e1a0>\u001b[0m in \u001b[0;36m<module>\u001b[1;34m\u001b[0m\n\u001b[1;32m----> 1\u001b[1;33m \u001b[0mprint\u001b[0m\u001b[1;33m(\u001b[0m\u001b[0mnames\u001b[0m\u001b[1;33m)\u001b[0m\u001b[1;33m\u001b[0m\u001b[1;33m\u001b[0m\u001b[0m\n\u001b[0m",
      "\u001b[1;31mNameError\u001b[0m: name 'names' is not defined"
     ]
    }
   ],
   "source": [
    "print(names)"
   ]
  },
  {
   "cell_type": "code",
   "execution_count": 5,
   "id": "bfb9c6f1",
   "metadata": {},
   "outputs": [
    {
     "name": "stdout",
     "output_type": "stream",
     "text": [
      "[<select class=\"form-control form-control-sm col col-md-4 col-lg-3\" data-default-value=\"popularity_desc\" id=\"sortBy\" name=\"sortBy\" size=\"1\"><option value=\"popularity_desc\">Most popular</option><option value=\"price_asc\">Price (cheapest first)</option><option value=\"price_desc\">Price (most expensive first)</option><option value=\"name_asc\">Name (A to Z)</option><option value=\"name_desc\">Name (Z to A)</option><option selected=\"selected\" value=\"collectorsnumber_asc\">Collector's Number (lowest first)</option><option value=\"collectorsnumber_desc\">Collector's Number (highest first)</option><option value=\"rarity_asc\">Rarity (most common first)</option><option value=\"rarity_desc\">Rarity (rarest first)</option><option value=\"date_asc\">Release Date (oldest first)</option><option value=\"date_desc\">Release Date (newest first)</option></select>, <div class=\"d-none col\">#</div>, <div class=\"col\"><div class=\"row no-gutters h-100\"><div class=\"col-10 col-md-8 px-2 flex-column align-items-start justify-content-center\">Name</div><div class=\"col-md-2 d-none d-lg-flex has-content-centered\">Number</div><div class=\"col-sm-2 d-none d-sm-flex has-content-centered\">Rarity</div></div></div>, <div class=\"d-none col\">1</div>, <div class=\"col\"><div class=\"row no-gutters\"><div class=\"col-10 col-md-8 px-2 flex-column align-items-start justify-content-center\"><a href=\"/en/YuGiOh/Products/Singles/YuGiOh-Championship-Series-Prize-Cards/Darklord-Asmodeus-V-1\">Darklord Asmodeus (V.1 - Super Rare)</a></div><div class=\"col-md-2 d-none d-lg-flex has-content-centered\">001</div><div class=\"col-sm-2 d-none d-sm-flex has-content-centered\"><span class=\"d-none d-md-flex\"><span class=\"icon\" data-html=\"true\" data-original-title=\"Super Rare\" data-placement=\"bottom\" data-toggle=\"tooltip\" onmouseout=\"hideMsgBox()\" onmouseover=\"showMsgBox(this,`Super Rare`)\" style=\"display: inline-block; width: 16px; height: 16px; background-image: url('//static.cardmarket.com/img/960ecc6e7779a97e34d5a75b7f571faa/spriteSheets/ssRarity/ssRarity3.png'); background-position: -176px -0px;\" title=\"Super Rare\"></span></span></div></div></div>, <div class=\"d-none col\">2</div>, <div class=\"col\"><div class=\"row no-gutters\"><div class=\"col-10 col-md-8 px-2 flex-column align-items-start justify-content-center\"><a href=\"/en/YuGiOh/Products/Singles/YuGiOh-Championship-Series-Prize-Cards/Darklord-Asmodeus-V-2\">Darklord Asmodeus (V.2 - Ultra Rare)</a></div><div class=\"col-md-2 d-none d-lg-flex has-content-centered\">001</div><div class=\"col-sm-2 d-none d-sm-flex has-content-centered\"><span class=\"d-none d-md-flex\"><span class=\"icon\" data-html=\"true\" data-original-title=\"Ultra Rare\" data-placement=\"bottom\" data-toggle=\"tooltip\" onmouseout=\"hideMsgBox()\" onmouseover=\"showMsgBox(this,`Ultra Rare`)\" style=\"display: inline-block; width: 16px; height: 16px; background-image: url('//static.cardmarket.com/img/960ecc6e7779a97e34d5a75b7f571faa/spriteSheets/ssRarity/ssRarity3.png'); background-position: -208px -0px;\" title=\"Ultra Rare\"></span></span></div></div></div>, <div class=\"d-none col\">3</div>, <div class=\"col\"><div class=\"row no-gutters\"><div class=\"col-10 col-md-8 px-2 flex-column align-items-start justify-content-center\"><a href=\"/en/YuGiOh/Products/Singles/YuGiOh-Championship-Series-Prize-Cards/Darklord-Superbia-V-2\">Darklord Superbia (V.2 - Ultra Rare)</a></div><div class=\"col-md-2 d-none d-lg-flex has-content-centered\">002</div><div class=\"col-sm-2 d-none d-sm-flex has-content-centered\"><span class=\"d-none d-md-flex\"><span class=\"icon\" data-html=\"true\" data-original-title=\"Ultra Rare\" data-placement=\"bottom\" data-toggle=\"tooltip\" onmouseout=\"hideMsgBox()\" onmouseover=\"showMsgBox(this,`Ultra Rare`)\" style=\"display: inline-block; width: 16px; height: 16px; background-image: url('//static.cardmarket.com/img/960ecc6e7779a97e34d5a75b7f571faa/spriteSheets/ssRarity/ssRarity3.png'); background-position: -208px -0px;\" title=\"Ultra Rare\"></span></span></div></div></div>, <div class=\"d-none col\">4</div>, <div class=\"col\"><div class=\"row no-gutters\"><div class=\"col-10 col-md-8 px-2 flex-column align-items-start justify-content-center\"><a href=\"/en/YuGiOh/Products/Singles/YuGiOh-Championship-Series-Prize-Cards/Darklord-Superbia-V-1\">Darklord Superbia (V.1 - Super Rare)</a></div><div class=\"col-md-2 d-none d-lg-flex has-content-centered\">002</div><div class=\"col-sm-2 d-none d-sm-flex has-content-centered\"><span class=\"d-none d-md-flex\"><span class=\"icon\" data-html=\"true\" data-original-title=\"Super Rare\" data-placement=\"bottom\" data-toggle=\"tooltip\" onmouseout=\"hideMsgBox()\" onmouseover=\"showMsgBox(this,`Super Rare`)\" style=\"display: inline-block; width: 16px; height: 16px; background-image: url('//static.cardmarket.com/img/960ecc6e7779a97e34d5a75b7f571faa/spriteSheets/ssRarity/ssRarity3.png'); background-position: -176px -0px;\" title=\"Super Rare\"></span></span></div></div></div>, <div class=\"d-none col\">5</div>, <div class=\"col\"><div class=\"row no-gutters\"><div class=\"col-10 col-md-8 px-2 flex-column align-items-start justify-content-center\"><a href=\"/en/YuGiOh/Products/Singles/YuGiOh-Championship-Series-Prize-Cards/Darklord-Edeh-Arae-V-1\">Darklord Edeh Arae (V.1 - Super Rare)</a></div><div class=\"col-md-2 d-none d-lg-flex has-content-centered\">003</div><div class=\"col-sm-2 d-none d-sm-flex has-content-centered\"><span class=\"d-none d-md-flex\"><span class=\"icon\" data-html=\"true\" data-original-title=\"Super Rare\" data-placement=\"bottom\" data-toggle=\"tooltip\" onmouseout=\"hideMsgBox()\" onmouseover=\"showMsgBox(this,`Super Rare`)\" style=\"display: inline-block; width: 16px; height: 16px; background-image: url('//static.cardmarket.com/img/960ecc6e7779a97e34d5a75b7f571faa/spriteSheets/ssRarity/ssRarity3.png'); background-position: -176px -0px;\" title=\"Super Rare\"></span></span></div></div></div>, <div class=\"d-none col\">6</div>, <div class=\"col\"><div class=\"row no-gutters\"><div class=\"col-10 col-md-8 px-2 flex-column align-items-start justify-content-center\"><a href=\"/en/YuGiOh/Products/Singles/YuGiOh-Championship-Series-Prize-Cards/Darklord-Edeh-Arae-V-2\">Darklord Edeh Arae (V.2 - Ultra Rare)</a></div><div class=\"col-md-2 d-none d-lg-flex has-content-centered\">003</div><div class=\"col-sm-2 d-none d-sm-flex has-content-centered\"><span class=\"d-none d-md-flex\"><span class=\"icon\" data-html=\"true\" data-original-title=\"Ultra Rare\" data-placement=\"bottom\" data-toggle=\"tooltip\" onmouseout=\"hideMsgBox()\" onmouseover=\"showMsgBox(this,`Ultra Rare`)\" style=\"display: inline-block; width: 16px; height: 16px; background-image: url('//static.cardmarket.com/img/960ecc6e7779a97e34d5a75b7f571faa/spriteSheets/ssRarity/ssRarity3.png'); background-position: -208px -0px;\" title=\"Ultra Rare\"></span></span></div></div></div>, <div class=\"d-none col\">7</div>, <div class=\"col\"><div class=\"row no-gutters\"><div class=\"col-10 col-md-8 px-2 flex-column align-items-start justify-content-center\"><a href=\"/en/YuGiOh/Products/Singles/YuGiOh-Championship-Series-Prize-Cards/Blood-Mefist-V-2\">Blood Mefist (V.2 - Ultra Rare)</a></div><div class=\"col-md-2 d-none d-lg-flex has-content-centered\">004</div><div class=\"col-sm-2 d-none d-sm-flex has-content-centered\"><span class=\"d-none d-md-flex\"><span class=\"icon\" data-html=\"true\" data-original-title=\"Ultra Rare\" data-placement=\"bottom\" data-toggle=\"tooltip\" onmouseout=\"hideMsgBox()\" onmouseover=\"showMsgBox(this,`Ultra Rare`)\" style=\"display: inline-block; width: 16px; height: 16px; background-image: url('//static.cardmarket.com/img/960ecc6e7779a97e34d5a75b7f571faa/spriteSheets/ssRarity/ssRarity3.png'); background-position: -208px -0px;\" title=\"Ultra Rare\"></span></span></div></div></div>, <div class=\"d-none col\">8</div>, <div class=\"col\"><div class=\"row no-gutters\"><div class=\"col-10 col-md-8 px-2 flex-column align-items-start justify-content-center\"><a href=\"/en/YuGiOh/Products/Singles/YuGiOh-Championship-Series-Prize-Cards/Blood-Mefist-V-1\">Blood Mefist (V.1 - Super Rare)</a></div><div class=\"col-md-2 d-none d-lg-flex has-content-centered\">004</div><div class=\"col-sm-2 d-none d-sm-flex has-content-centered\"><span class=\"d-none d-md-flex\"><span class=\"icon\" data-html=\"true\" data-original-title=\"Super Rare\" data-placement=\"bottom\" data-toggle=\"tooltip\" onmouseout=\"hideMsgBox()\" onmouseover=\"showMsgBox(this,`Super Rare`)\" style=\"display: inline-block; width: 16px; height: 16px; background-image: url('//static.cardmarket.com/img/960ecc6e7779a97e34d5a75b7f571faa/spriteSheets/ssRarity/ssRarity3.png'); background-position: -176px -0px;\" title=\"Super Rare\"></span></span></div></div></div>, <div class=\"d-none col\">9</div>, <div class=\"col\"><div class=\"row no-gutters\"><div class=\"col-10 col-md-8 px-2 flex-column align-items-start justify-content-center\"><a href=\"/en/YuGiOh/Products/Singles/YuGiOh-Championship-Series-Prize-Cards/Digvorzhak-King-of-Heavy-Industry-V-1-Super-Rare\">Digvorzhak, King of Heavy Industry (V.1 - Super Rare)</a></div><div class=\"col-md-2 d-none d-lg-flex has-content-centered\">005</div><div class=\"col-sm-2 d-none d-sm-flex has-content-centered\"><span class=\"d-none d-md-flex\"><span class=\"icon\" data-html=\"true\" data-original-title=\"Super Rare\" data-placement=\"bottom\" data-toggle=\"tooltip\" onmouseout=\"hideMsgBox()\" onmouseover=\"showMsgBox(this,`Super Rare`)\" style=\"display: inline-block; width: 16px; height: 16px; background-image: url('//static.cardmarket.com/img/960ecc6e7779a97e34d5a75b7f571faa/spriteSheets/ssRarity/ssRarity3.png'); background-position: -176px -0px;\" title=\"Super Rare\"></span></span></div></div></div>, <div class=\"d-none col\">10</div>, <div class=\"col\"><div class=\"row no-gutters\"><div class=\"col-10 col-md-8 px-2 flex-column align-items-start justify-content-center\"><a href=\"/en/YuGiOh/Products/Singles/YuGiOh-Championship-Series-Prize-Cards/Digvorzhak-King-of-Heavy-Industry-V-2-Ultra-Rare\">Digvorzhak, King of Heavy Industry (V.2 - Ultra Rare)</a></div><div class=\"col-md-2 d-none d-lg-flex has-content-centered\">005</div><div class=\"col-sm-2 d-none d-sm-flex has-content-centered\"><span class=\"d-none d-md-flex\"><span class=\"icon\" data-html=\"true\" data-original-title=\"Ultra Rare\" data-placement=\"bottom\" data-toggle=\"tooltip\" onmouseout=\"hideMsgBox()\" onmouseover=\"showMsgBox(this,`Ultra Rare`)\" style=\"display: inline-block; width: 16px; height: 16px; background-image: url('//static.cardmarket.com/img/960ecc6e7779a97e34d5a75b7f571faa/spriteSheets/ssRarity/ssRarity3.png'); background-position: -208px -0px;\" title=\"Ultra Rare\"></span></span></div></div></div>, <div class=\"d-none col\">11</div>, <div class=\"col\"><div class=\"row no-gutters\"><div class=\"col-10 col-md-8 px-2 flex-column align-items-start justify-content-center\"><a href=\"/en/YuGiOh/Products/Singles/YuGiOh-Championship-Series-Prize-Cards/Number-106-Giant-Hand-V-2-Ultra-Rare\">Number 106: Giant Hand (V.2 - Ultra Rare)</a></div><div class=\"col-md-2 d-none d-lg-flex has-content-centered\">006</div><div class=\"col-sm-2 d-none d-sm-flex has-content-centered\"><span class=\"d-none d-md-flex\"><span class=\"icon\" data-html=\"true\" data-original-title=\"Ultra Rare\" data-placement=\"bottom\" data-toggle=\"tooltip\" onmouseout=\"hideMsgBox()\" onmouseover=\"showMsgBox(this,`Ultra Rare`)\" style=\"display: inline-block; width: 16px; height: 16px; background-image: url('//static.cardmarket.com/img/960ecc6e7779a97e34d5a75b7f571faa/spriteSheets/ssRarity/ssRarity3.png'); background-position: -208px -0px;\" title=\"Ultra Rare\"></span></span></div></div></div>, <div class=\"d-none col\">12</div>, <div class=\"col\"><div class=\"row no-gutters\"><div class=\"col-10 col-md-8 px-2 flex-column align-items-start justify-content-center\"><a href=\"/en/YuGiOh/Products/Singles/YuGiOh-Championship-Series-Prize-Cards/Number-106-Giant-Hand-V-1-Super-Rare\">Number 106: Giant Hand (V.1 - Super Rare)</a></div><div class=\"col-md-2 d-none d-lg-flex has-content-centered\">006</div><div class=\"col-sm-2 d-none d-sm-flex has-content-centered\"><span class=\"d-none d-md-flex\"><span class=\"icon\" data-html=\"true\" data-original-title=\"Super Rare\" data-placement=\"bottom\" data-toggle=\"tooltip\" onmouseout=\"hideMsgBox()\" onmouseover=\"showMsgBox(this,`Super Rare`)\" style=\"display: inline-block; width: 16px; height: 16px; background-image: url('//static.cardmarket.com/img/960ecc6e7779a97e34d5a75b7f571faa/spriteSheets/ssRarity/ssRarity3.png'); background-position: -176px -0px;\" title=\"Super Rare\"></span></span></div></div></div>, <div class=\"d-none col\">13</div>, <div class=\"col\"><div class=\"row no-gutters\"><div class=\"col-10 col-md-8 px-2 flex-column align-items-start justify-content-center\"><a href=\"/en/YuGiOh/Products/Singles/YuGiOh-Championship-Series-Prize-Cards/Ascension-Sky-Dragon-V-2\">Ascension Sky Dragon (V.2 - Super Rare)</a></div><div class=\"col-md-2 d-none d-lg-flex has-content-centered\">007</div><div class=\"col-sm-2 d-none d-sm-flex has-content-centered\"><span class=\"d-none d-md-flex\"><span class=\"icon\" data-html=\"true\" data-original-title=\"Super Rare\" data-placement=\"bottom\" data-toggle=\"tooltip\" onmouseout=\"hideMsgBox()\" onmouseover=\"showMsgBox(this,`Super Rare`)\" style=\"display: inline-block; width: 16px; height: 16px; background-image: url('//static.cardmarket.com/img/960ecc6e7779a97e34d5a75b7f571faa/spriteSheets/ssRarity/ssRarity3.png'); background-position: -176px -0px;\" title=\"Super Rare\"></span></span></div></div></div>, <div class=\"d-none col\">14</div>, <div class=\"col\"><div class=\"row no-gutters\"><div class=\"col-10 col-md-8 px-2 flex-column align-items-start justify-content-center\"><a href=\"/en/YuGiOh/Products/Singles/YuGiOh-Championship-Series-Prize-Cards/Ascension-Sky-Dragon-V-1\">Ascension Sky Dragon (V.1 - Ultra Rare)</a></div><div class=\"col-md-2 d-none d-lg-flex has-content-centered\">007</div><div class=\"col-sm-2 d-none d-sm-flex has-content-centered\"><span class=\"d-none d-md-flex\"><span class=\"icon\" data-html=\"true\" data-original-title=\"Ultra Rare\" data-placement=\"bottom\" data-toggle=\"tooltip\" onmouseout=\"hideMsgBox()\" onmouseover=\"showMsgBox(this,`Ultra Rare`)\" style=\"display: inline-block; width: 16px; height: 16px; background-image: url('//static.cardmarket.com/img/960ecc6e7779a97e34d5a75b7f571faa/spriteSheets/ssRarity/ssRarity3.png'); background-position: -208px -0px;\" title=\"Ultra Rare\"></span></span></div></div></div>, <div class=\"d-none col\">15</div>, <div class=\"col\"><div class=\"row no-gutters\"><div class=\"col-10 col-md-8 px-2 flex-column align-items-start justify-content-center\"><a href=\"/en/YuGiOh/Products/Singles/YuGiOh-Championship-Series-Prize-Cards/Minerva-the-Exalted-Lightsworn-V-1-Super-Rare\">Minerva, the Exalted Lightsworn (V.1 - Super Rare)</a></div><div class=\"col-md-2 d-none d-lg-flex has-content-centered\">008</div><div class=\"col-sm-2 d-none d-sm-flex has-content-centered\"><span class=\"d-none d-md-flex\"><span class=\"icon\" data-html=\"true\" data-original-title=\"Super Rare\" data-placement=\"bottom\" data-toggle=\"tooltip\" onmouseout=\"hideMsgBox()\" onmouseover=\"showMsgBox(this,`Super Rare`)\" style=\"display: inline-block; width: 16px; height: 16px; background-image: url('//static.cardmarket.com/img/960ecc6e7779a97e34d5a75b7f571faa/spriteSheets/ssRarity/ssRarity3.png'); background-position: -176px -0px;\" title=\"Super Rare\"></span></span></div></div></div>, <div class=\"d-none col\">16</div>, <div class=\"col\"><div class=\"row no-gutters\"><div class=\"col-10 col-md-8 px-2 flex-column align-items-start justify-content-center\"><a href=\"/en/YuGiOh/Products/Singles/YuGiOh-Championship-Series-Prize-Cards/Minerva-the-Exalted-Lightsworn-V-2-Ultra-Rare\">Minerva, the Exalted Lightsworn (V.2 - Ultra Rare)</a></div><div class=\"col-md-2 d-none d-lg-flex has-content-centered\">008</div><div class=\"col-sm-2 d-none d-sm-flex has-content-centered\"><span class=\"d-none d-md-flex\"><span class=\"icon\" data-html=\"true\" data-original-title=\"Ultra Rare\" data-placement=\"bottom\" data-toggle=\"tooltip\" onmouseout=\"hideMsgBox()\" onmouseover=\"showMsgBox(this,`Ultra Rare`)\" style=\"display: inline-block; width: 16px; height: 16px; background-image: url('//static.cardmarket.com/img/960ecc6e7779a97e34d5a75b7f571faa/spriteSheets/ssRarity/ssRarity3.png'); background-position: -208px -0px;\" title=\"Ultra Rare\"></span></span></div></div></div>, <div class=\"d-none col\">17</div>, <div class=\"col\"><div class=\"row no-gutters\"><div class=\"col-10 col-md-8 px-2 flex-column align-items-start justify-content-center\"><a href=\"/en/YuGiOh/Products/Singles/YuGiOh-Championship-Series-Prize-Cards/Number-93-Utopia-Kaiser-V-1-Super-Rare\">Number 93: Utopia Kaiser (V.1 - Super Rare)</a></div><div class=\"col-md-2 d-none d-lg-flex has-content-centered\">009</div><div class=\"col-sm-2 d-none d-sm-flex has-content-centered\"><span class=\"d-none d-md-flex\"><span class=\"icon\" data-html=\"true\" data-original-title=\"Super Rare\" data-placement=\"bottom\" data-toggle=\"tooltip\" onmouseout=\"hideMsgBox()\" onmouseover=\"showMsgBox(this,`Super Rare`)\" style=\"display: inline-block; width: 16px; height: 16px; background-image: url('//static.cardmarket.com/img/960ecc6e7779a97e34d5a75b7f571faa/spriteSheets/ssRarity/ssRarity3.png'); background-position: -176px -0px;\" title=\"Super Rare\"></span></span></div></div></div>, <div class=\"d-none col\">18</div>, <div class=\"col\"><div class=\"row no-gutters\"><div class=\"col-10 col-md-8 px-2 flex-column align-items-start justify-content-center\"><a href=\"/en/YuGiOh/Products/Singles/YuGiOh-Championship-Series-Prize-Cards/Number-93-Utopia-Kaiser-V-2-Ultra-Rare\">Number 93: Utopia Kaiser (V.2 - Ultra Rare)</a></div><div class=\"col-md-2 d-none d-lg-flex has-content-centered\">009</div><div class=\"col-sm-2 d-none d-sm-flex has-content-centered\"><span class=\"d-none d-md-flex\"><span class=\"icon\" data-html=\"true\" data-original-title=\"Ultra Rare\" data-placement=\"bottom\" data-toggle=\"tooltip\" onmouseout=\"hideMsgBox()\" onmouseover=\"showMsgBox(this,`Ultra Rare`)\" style=\"display: inline-block; width: 16px; height: 16px; background-image: url('//static.cardmarket.com/img/960ecc6e7779a97e34d5a75b7f571faa/spriteSheets/ssRarity/ssRarity3.png'); background-position: -208px -0px;\" title=\"Ultra Rare\"></span></span></div></div></div>, <div class=\"d-none col\">19</div>, <div class=\"col\"><div class=\"row no-gutters\"><div class=\"col-10 col-md-8 px-2 flex-column align-items-start justify-content-center\"><a href=\"/en/YuGiOh/Products/Singles/YuGiOh-Championship-Series-Prize-Cards/Number-89-Diablosis-the-Mind-Hacker-V-1-Super-Rare\">Number 89: Diablosis the Mind Hacker (V.1 - Super Rare)</a></div><div class=\"col-md-2 d-none d-lg-flex has-content-centered\">010</div><div class=\"col-sm-2 d-none d-sm-flex has-content-centered\"><span class=\"d-none d-md-flex\"><span class=\"icon\" data-html=\"true\" data-original-title=\"Super Rare\" data-placement=\"bottom\" data-toggle=\"tooltip\" onmouseout=\"hideMsgBox()\" onmouseover=\"showMsgBox(this,`Super Rare`)\" style=\"display: inline-block; width: 16px; height: 16px; background-image: url('//static.cardmarket.com/img/960ecc6e7779a97e34d5a75b7f571faa/spriteSheets/ssRarity/ssRarity3.png'); background-position: -176px -0px;\" title=\"Super Rare\"></span></span></div></div></div>, <div class=\"d-none col\">20</div>, <div class=\"col\"><div class=\"row no-gutters\"><div class=\"col-10 col-md-8 px-2 flex-column align-items-start justify-content-center\"><a href=\"/en/YuGiOh/Products/Singles/YuGiOh-Championship-Series-Prize-Cards/Number-89-Diablosis-the-Mind-Hacker-V-2-Ultra-Rare\">Number 89: Diablosis the Mind Hacker (V.2 - Ultra Rare)</a></div><div class=\"col-md-2 d-none d-lg-flex has-content-centered\">010</div><div class=\"col-sm-2 d-none d-sm-flex has-content-centered\"><span class=\"d-none d-md-flex\"><span class=\"icon\" data-html=\"true\" data-original-title=\"Ultra Rare\" data-placement=\"bottom\" data-toggle=\"tooltip\" onmouseout=\"hideMsgBox()\" onmouseover=\"showMsgBox(this,`Ultra Rare`)\" style=\"display: inline-block; width: 16px; height: 16px; background-image: url('//static.cardmarket.com/img/960ecc6e7779a97e34d5a75b7f571faa/spriteSheets/ssRarity/ssRarity3.png'); background-position: -208px -0px;\" title=\"Ultra Rare\"></span></span></div></div></div>, <div class=\"col\"><ul class=\"nav align-items-center justify-content-start font-weight-bold\"><li class=\"nav-item text-uppercase\"><a class=\"nav-link\" href=\"/en/YuGiOh/Policies/GeneralTermsAndConditions\" title=\"General Terms and Conditions\">General Terms and Conditions</a></li><li class=\"nav-item text-uppercase\"><a class=\"nav-link\" href=\"/en/YuGiOh/AboutUs\" title=\"About Us\">About Us</a></li><li class=\"nav-item text-uppercase\"><a class=\"nav-link\" href=\"/en/YuGiOh/Policies/PrivacyPolicy\" title=\"Privacy Policy\">Privacy Policy</a></li><li class=\"nav-item text-uppercase\"><a class=\"nav-link\" href=\"/en/YuGiOh/Help\" title=\"Help\">Help</a></li><li class=\"nav-item text-uppercase\"><a class=\"nav-link\" href=\"/en/YuGiOh/Jobs\" title=\"Jobs\">Jobs</a></li><li class=\"dropup nav-item ml-auto\"><a aria-expanded=\"false\" aria-haspopup=\"true\" class=\"nav-link dropdown-toggle text-nowrap text-uppercase\" data-toggle=\"dropdown\" href=\"#\" role=\"button\"><small class=\"text-muted\">Language:</small><span class=\"icon mx-2 align-text-bottom\" onmouseout=\"return false;\" onmouseover=\"return false;\" style=\"display: inline-block; width: 16px; height: 16px; background-image: url('//static.cardmarket.com/img/f8d806e6267c7c859592cba11335f3d6/spriteSheets/ssMain2.png'); background-position: -16px -0px;\"></span><span>English</span></a><div class=\"dropdown-menu dropdown-menu-right\"><h6 class=\"d-none d-lg-block dropdown-header\">Choose a language</h6><a class=\"dropdown-item text-uppercase hvr-sweep-to-right\" href=\"/fr/YuGiOh/Products/Singles/YuGiOh-Championship-Series-Prize-Cards?sortBy=collectorsnumber_asc\" rel=\"nofollow\" title=\"Français\"><span class=\"icon mr-2 align-text-bottom\" data-html=\"true\" data-original-title=\"French\" data-placement=\"bottom\" data-toggle=\"tooltip\" onmouseout=\"return false;\" onmouseover=\"return false;\" style=\"display: inline-block; width: 16px; height: 16px; background-image: url('//static.cardmarket.com/img/f8d806e6267c7c859592cba11335f3d6/spriteSheets/ssMain2.png'); background-position: -48px -0px;\" title=\"\"></span><span>Français</span></a><a class=\"dropdown-item text-uppercase hvr-sweep-to-right\" href=\"/de/YuGiOh/Products/Singles/YuGiOh-Championship-Series-Prize-Cards?sortBy=collectorsnumber_asc\" rel=\"nofollow\" title=\"Deutsch\"><span class=\"icon mr-2 align-text-bottom\" data-html=\"true\" data-original-title=\"German\" data-placement=\"bottom\" data-toggle=\"tooltip\" onmouseout=\"return false;\" onmouseover=\"return false;\" style=\"display: inline-block; width: 16px; height: 16px; background-image: url('//static.cardmarket.com/img/f8d806e6267c7c859592cba11335f3d6/spriteSheets/ssMain2.png'); background-position: -80px -0px;\" title=\"\"></span><span>Deutsch</span></a><a class=\"dropdown-item text-uppercase hvr-sweep-to-right\" href=\"/es/YuGiOh/Products/Singles/YuGiOh-Championship-Series-Prize-Cards?sortBy=collectorsnumber_asc\" rel=\"nofollow\" title=\"Español\"><span class=\"icon mr-2 align-text-bottom\" data-html=\"true\" data-original-title=\"Spanish\" data-placement=\"bottom\" data-toggle=\"tooltip\" onmouseout=\"return false;\" onmouseover=\"return false;\" style=\"display: inline-block; width: 16px; height: 16px; background-image: url('//static.cardmarket.com/img/f8d806e6267c7c859592cba11335f3d6/spriteSheets/ssMain2.png'); background-position: -112px -0px;\" title=\"\"></span><span>Español</span></a><a class=\"dropdown-item text-uppercase hvr-sweep-to-right\" href=\"/it/YuGiOh/Products/Singles/YuGiOh-Championship-Series-Prize-Cards?sortBy=collectorsnumber_asc\" rel=\"nofollow\" title=\"Italiano\"><span class=\"icon mr-2 align-text-bottom\" data-html=\"true\" data-original-title=\"Italian\" data-placement=\"bottom\" data-toggle=\"tooltip\" onmouseout=\"return false;\" onmouseover=\"return false;\" style=\"display: inline-block; width: 16px; height: 16px; background-image: url('//static.cardmarket.com/img/f8d806e6267c7c859592cba11335f3d6/spriteSheets/ssMain2.png'); background-position: -144px -0px;\" title=\"\"></span><span>Italiano</span></a><p class=\"dropdown-info dropdown-item text-muted py-2\"><small>This changes the language of the site.<br/>It won't change any text entered by users.</small></p></div></li></ul></div>, <div class=\"col col-md-6\"><p class=\"text-muted text-center text-md-left\" id=\"copyright\"><small>© Copyright 2022 Sammelkartenmarkt GmbH und Co. KG. All rights reserved.</small></p></div>, <div class=\"col d-none d-md-block text-right\"><a class=\"icon is-24x24 my-2 ml-3\" data-html=\"true\" data-placement=\"bottom\" data-toggle=\"tooltip\" href=\"https://www.facebook.com/CardmarketYugioh\" rel=\"nofollow\" target=\"_blank\" title=\"Facebook - Cardmarket\"><span class=\"fonticon-facebook\"></span></a><a class=\"icon is-24x24 my-2 ml-3\" data-html=\"true\" data-placement=\"bottom\" data-toggle=\"tooltip\" href=\"https://twitter.com/CardmarketYGO\" rel=\"nofollow\" target=\"_blank\" title=\"Twitter - Cardmarket\"><span class=\"fonticon-twitter\"></span></a><a class=\"icon is-24x24 my-2 ml-3\" data-html=\"true\" data-placement=\"bottom\" data-toggle=\"tooltip\" href=\"https://www.instagram.com/cardmarket_yugioh/\" rel=\"nofollow\" target=\"_blank\" title=\"Instagram - Cardmarket\"><span class=\"fonticon-instagram\"></span></a><a class=\"icon is-24x24 my-2 ml-3\" data-html=\"true\" data-placement=\"bottom\" data-toggle=\"tooltip\" href=\"https://www.twitch.tv/cardmarket_yugioh\" rel=\"nofollow\" target=\"_blank\" title=\"Twitch - Cardmarket\"><span class=\"fonticon-twitch\"></span></a><a class=\"icon is-24x24 my-2 ml-3\" data-html=\"true\" data-placement=\"bottom\" data-toggle=\"tooltip\" href=\"https://youtube.com/c/CardmarketYGO\" rel=\"nofollow\" target=\"_blank\" title=\"Youtube - Cardmarket\"><span class=\"fonticon-youtube\"></span></a></div>]\n"
     ]
    }
   ],
   "source": [
    "print(card_price_info)"
   ]
  },
  {
   "cell_type": "code",
   "execution_count": 4,
   "id": "5d51784d",
   "metadata": {
    "scrolled": false
   },
   "outputs": [
    {
     "ename": "NameError",
     "evalue": "name 'df' is not defined",
     "output_type": "error",
     "traceback": [
      "\u001b[1;31m---------------------------------------------------------------------------\u001b[0m",
      "\u001b[1;31mNameError\u001b[0m                                 Traceback (most recent call last)",
      "\u001b[1;32m<ipython-input-4-4389a42513ff>\u001b[0m in \u001b[0;36m<module>\u001b[1;34m\u001b[0m\n\u001b[1;32m----> 1\u001b[1;33m \u001b[0mprint\u001b[0m\u001b[1;33m(\u001b[0m\u001b[0mlist\u001b[0m\u001b[1;33m(\u001b[0m\u001b[0mdf\u001b[0m\u001b[1;33m[\u001b[0m\u001b[1;34m'Cardmarket Links'\u001b[0m\u001b[1;33m]\u001b[0m\u001b[1;33m)\u001b[0m\u001b[1;33m)\u001b[0m\u001b[1;33m\u001b[0m\u001b[1;33m\u001b[0m\u001b[0m\n\u001b[0m",
      "\u001b[1;31mNameError\u001b[0m: name 'df' is not defined"
     ]
    }
   ],
   "source": [
    "print(list(df['Cardmarket Links']))"
   ]
  },
  {
   "cell_type": "code",
   "execution_count": 66,
   "id": "c5282148",
   "metadata": {},
   "outputs": [
    {
     "name": "stdout",
     "output_type": "stream",
     "text": [
      "                                      Card Name Card Number          Rarity  \\\n",
      "0                              Libromancer Fire         000     Secret Rare   \n",
      "1                          Performapal Gentrude         001      Super Rare   \n",
      "2                          Performapal Ladyange         002      Super Rare   \n",
      "3                            Therion \"Bull\" Ain         003          Common   \n",
      "4                          Therion \"Reaper\" Fum         004          Common   \n",
      "..                                          ...         ...             ...   \n",
      "101  Curse of Dragon, the Magical Knight Dragon         097      Super Rare   \n",
      "102                        Odd-Eyes Wing Dragon         098      Super Rare   \n",
      "103                                 V-LAN Hydra         099          Common   \n",
      "104               Ghost Belle & Haunted Mansion         100  Starlight Rare   \n",
      "105          Visas Starfrost (V.2 - Ultra Rare)         SP1      Ultra Rare   \n",
      "\n",
      "                                      Cardmarket Links  \n",
      "0    https://www.cardmarket.com//en/YuGiOh/Products...  \n",
      "1    https://www.cardmarket.com//en/YuGiOh/Products...  \n",
      "2    https://www.cardmarket.com//en/YuGiOh/Products...  \n",
      "3    https://www.cardmarket.com//en/YuGiOh/Products...  \n",
      "4    https://www.cardmarket.com//en/YuGiOh/Products...  \n",
      "..                                                 ...  \n",
      "101  https://www.cardmarket.com//en/YuGiOh/Products...  \n",
      "102  https://www.cardmarket.com//en/YuGiOh/Products...  \n",
      "103  https://www.cardmarket.com//en/YuGiOh/Products...  \n",
      "104  https://www.cardmarket.com//en/YuGiOh/Products...  \n",
      "105  https://www.cardmarket.com//en/YuGiOh/Products...  \n",
      "\n",
      "[106 rows x 4 columns]\n"
     ]
    }
   ],
   "source": [
    "print(df)"
   ]
  },
  {
   "cell_type": "code",
   "execution_count": 59,
   "id": "3b5b5cc7",
   "metadata": {},
   "outputs": [
    {
     "name": "stdout",
     "output_type": "stream",
     "text": [
      "['Name', 'Visas Starfrost (V.2 - Ultra Rare)', 'Ghost Belle & Haunted Mansion', 'V-LAN Hydra', 'Odd-Eyes Wing Dragon', 'Curse of Dragon, the Magical Knight Dragon', 'Changshi the Spiridao', 'Yakusa, Lord of the Eight Thunders', 'Crow Tengu', 'Chow Sai the Ghost Stopper', 'Motor Frenzy', 'Libromancer Prevented', 'Libromancer Displaced', 'Libromancer Bonded', 'Libromancer Realized', 'Libromancer Fireburst', 'Libromancer Mystigirl', 'Backup Team', 'Omega Judgment', 'Patissciel Couverture (V.1 - Super Rare)', 'Patissciel Couverture (V.2 - Starlight Rare)']\n"
     ]
    }
   ],
   "source": [
    "print(names)"
   ]
  },
  {
   "cell_type": "code",
   "execution_count": 12,
   "id": "b621c075",
   "metadata": {},
   "outputs": [
    {
     "name": "stdout",
     "output_type": "stream",
     "text": [
      "[<select class=\"form-control form-control-sm col col-md-4 col-lg-3\" data-default-value=\"popularity_desc\" id=\"sortBy\" name=\"sortBy\" size=\"1\"><option value=\"popularity_desc\">Most popular</option><option value=\"price_asc\">Price (cheapest first)</option><option value=\"price_desc\">Price (most expensive first)</option><option value=\"name_asc\">Name (A to Z)</option><option value=\"name_desc\">Name (Z to A)</option><option value=\"collectorsnumber_asc\">Collector's Number (lowest first)</option><option selected=\"selected\" value=\"collectorsnumber_desc\">Collector's Number (highest first)</option><option value=\"rarity_asc\">Rarity (most common first)</option><option value=\"rarity_desc\">Rarity (rarest first)</option><option value=\"date_asc\">Release Date (oldest first)</option><option value=\"date_desc\">Release Date (newest first)</option></select>, <div class=\"d-none col\">#</div>, <div class=\"col\"><div class=\"row no-gutters h-100\"><div class=\"col-10 col-md-8 px-2 flex-column align-items-start justify-content-center\">Name</div><div class=\"col-md-2 d-none d-lg-flex has-content-centered\">Number</div><div class=\"col-sm-2 d-none d-sm-flex has-content-centered\">Rarity</div></div></div>, <div class=\"d-none col\">1</div>, <div class=\"col\"><div class=\"row no-gutters\"><div class=\"col-10 col-md-8 px-2 flex-column align-items-start justify-content-center\"><a href=\"/en/YuGiOh/Products/Singles/Dimension-Force/Visas-Starfrost-V2-Ultra-Rare\">Visas Starfrost (V.2 - Ultra Rare)</a></div><div class=\"col-md-2 d-none d-lg-flex has-content-centered\">SP1</div><div class=\"col-sm-2 d-none d-sm-flex has-content-centered\"><span class=\"d-none d-md-flex\"><span class=\"icon\" data-html=\"true\" data-original-title=\"Ultra Rare\" data-placement=\"bottom\" data-toggle=\"tooltip\" onmouseout=\"hideMsgBox()\" onmouseover=\"showMsgBox(this,`Ultra Rare`)\" style=\"display: inline-block; width: 16px; height: 16px; background-image: url('//static.cardmarket.com/img/960ecc6e7779a97e34d5a75b7f571faa/spriteSheets/ssRarity/ssRarity3.png'); background-position: -208px -0px;\" title=\"Ultra Rare\"></span></span></div></div></div>, <div class=\"d-none col\">2</div>, <div class=\"col\"><div class=\"row no-gutters\"><div class=\"col-10 col-md-8 px-2 flex-column align-items-start justify-content-center\"><a href=\"/en/YuGiOh/Products/Singles/Dimension-Force/Ghost-Belle-Haunted-Mansion\">Ghost Belle &amp; Haunted Mansion</a></div><div class=\"col-md-2 d-none d-lg-flex has-content-centered\">100</div><div class=\"col-sm-2 d-none d-sm-flex has-content-centered\"><span class=\"d-none d-md-flex\"><span class=\"icon\" data-html=\"true\" data-original-title=\"Starlight Rare\" data-placement=\"bottom\" data-toggle=\"tooltip\" onmouseout=\"hideMsgBox()\" onmouseover=\"showMsgBox(this,`Starlight Rare`)\" style=\"display: inline-block; width: 16px; height: 16px; background-image: url('//static.cardmarket.com/img/960ecc6e7779a97e34d5a75b7f571faa/spriteSheets/ssRarity/ssRarity3.png'); background-position: -272px -0px;\" title=\"Starlight Rare\"></span></span></div></div></div>, <div class=\"d-none col\">3</div>, <div class=\"col\"><div class=\"row no-gutters\"><div class=\"col-10 col-md-8 px-2 flex-column align-items-start justify-content-center\"><a href=\"/en/YuGiOh/Products/Singles/Dimension-Force/V-LAN-Hydra\">V-LAN Hydra</a></div><div class=\"col-md-2 d-none d-lg-flex has-content-centered\">099</div><div class=\"col-sm-2 d-none d-sm-flex has-content-centered\"><span class=\"d-none d-md-flex\"><span class=\"icon\" data-html=\"true\" data-original-title=\"Common\" data-placement=\"bottom\" data-toggle=\"tooltip\" onmouseout=\"hideMsgBox()\" onmouseover=\"showMsgBox(this,`Common`)\" style=\"display: inline-block; width: 16px; height: 16px; background-image: url('//static.cardmarket.com/img/960ecc6e7779a97e34d5a75b7f571faa/spriteSheets/ssRarity/ssRarity3.png'); background-position: -0px -0px;\" title=\"Common\"></span></span></div></div></div>, <div class=\"d-none col\">4</div>, <div class=\"col\"><div class=\"row no-gutters\"><div class=\"col-10 col-md-8 px-2 flex-column align-items-start justify-content-center\"><a href=\"/en/YuGiOh/Products/Singles/Dimension-Force/Odd-Eyes-Wing-Dragon\">Odd-Eyes Wing Dragon</a></div><div class=\"col-md-2 d-none d-lg-flex has-content-centered\">098</div><div class=\"col-sm-2 d-none d-sm-flex has-content-centered\"><span class=\"d-none d-md-flex\"><span class=\"icon\" data-html=\"true\" data-original-title=\"Super Rare\" data-placement=\"bottom\" data-toggle=\"tooltip\" onmouseout=\"hideMsgBox()\" onmouseover=\"showMsgBox(this,`Super Rare`)\" style=\"display: inline-block; width: 16px; height: 16px; background-image: url('//static.cardmarket.com/img/960ecc6e7779a97e34d5a75b7f571faa/spriteSheets/ssRarity/ssRarity3.png'); background-position: -176px -0px;\" title=\"Super Rare\"></span></span></div></div></div>, <div class=\"d-none col\">5</div>, <div class=\"col\"><div class=\"row no-gutters\"><div class=\"col-10 col-md-8 px-2 flex-column align-items-start justify-content-center\"><a href=\"/en/YuGiOh/Products/Singles/Dimension-Force/Curse-of-Dragon-the-Magical-Knight-Dragon\">Curse of Dragon, the Magical Knight Dragon</a></div><div class=\"col-md-2 d-none d-lg-flex has-content-centered\">097</div><div class=\"col-sm-2 d-none d-sm-flex has-content-centered\"><span class=\"d-none d-md-flex\"><span class=\"icon\" data-html=\"true\" data-original-title=\"Super Rare\" data-placement=\"bottom\" data-toggle=\"tooltip\" onmouseout=\"hideMsgBox()\" onmouseover=\"showMsgBox(this,`Super Rare`)\" style=\"display: inline-block; width: 16px; height: 16px; background-image: url('//static.cardmarket.com/img/960ecc6e7779a97e34d5a75b7f571faa/spriteSheets/ssRarity/ssRarity3.png'); background-position: -176px -0px;\" title=\"Super Rare\"></span></span></div></div></div>, <div class=\"d-none col\">6</div>, <div class=\"col\"><div class=\"row no-gutters\"><div class=\"col-10 col-md-8 px-2 flex-column align-items-start justify-content-center\"><a href=\"/en/YuGiOh/Products/Singles/Dimension-Force/Changshi-the-Spiridao\">Changshi the Spiridao</a></div><div class=\"col-md-2 d-none d-lg-flex has-content-centered\">096</div><div class=\"col-sm-2 d-none d-sm-flex has-content-centered\"><span class=\"d-none d-md-flex\"><span class=\"icon\" data-html=\"true\" data-original-title=\"Super Rare\" data-placement=\"bottom\" data-toggle=\"tooltip\" onmouseout=\"hideMsgBox()\" onmouseover=\"showMsgBox(this,`Super Rare`)\" style=\"display: inline-block; width: 16px; height: 16px; background-image: url('//static.cardmarket.com/img/960ecc6e7779a97e34d5a75b7f571faa/spriteSheets/ssRarity/ssRarity3.png'); background-position: -176px -0px;\" title=\"Super Rare\"></span></span></div></div></div>, <div class=\"d-none col\">7</div>, <div class=\"col\"><div class=\"row no-gutters\"><div class=\"col-10 col-md-8 px-2 flex-column align-items-start justify-content-center\"><a href=\"/en/YuGiOh/Products/Singles/Dimension-Force/Yakusa-Lord-of-the-Eight-Thunders\">Yakusa, Lord of the Eight Thunders</a></div><div class=\"col-md-2 d-none d-lg-flex has-content-centered\">095</div><div class=\"col-sm-2 d-none d-sm-flex has-content-centered\"><span class=\"d-none d-md-flex\"><span class=\"icon\" data-html=\"true\" data-original-title=\"Super Rare\" data-placement=\"bottom\" data-toggle=\"tooltip\" onmouseout=\"hideMsgBox()\" onmouseover=\"showMsgBox(this,`Super Rare`)\" style=\"display: inline-block; width: 16px; height: 16px; background-image: url('//static.cardmarket.com/img/960ecc6e7779a97e34d5a75b7f571faa/spriteSheets/ssRarity/ssRarity3.png'); background-position: -176px -0px;\" title=\"Super Rare\"></span></span></div></div></div>, <div class=\"d-none col\">8</div>, <div class=\"col\"><div class=\"row no-gutters\"><div class=\"col-10 col-md-8 px-2 flex-column align-items-start justify-content-center\"><a href=\"/en/YuGiOh/Products/Singles/Dimension-Force/Crow-Tengu\">Crow Tengu</a></div><div class=\"col-md-2 d-none d-lg-flex has-content-centered\">094</div><div class=\"col-sm-2 d-none d-sm-flex has-content-centered\"><span class=\"d-none d-md-flex\"><span class=\"icon\" data-html=\"true\" data-original-title=\"Common\" data-placement=\"bottom\" data-toggle=\"tooltip\" onmouseout=\"hideMsgBox()\" onmouseover=\"showMsgBox(this,`Common`)\" style=\"display: inline-block; width: 16px; height: 16px; background-image: url('//static.cardmarket.com/img/960ecc6e7779a97e34d5a75b7f571faa/spriteSheets/ssRarity/ssRarity3.png'); background-position: -0px -0px;\" title=\"Common\"></span></span></div></div></div>, <div class=\"d-none col\">9</div>, <div class=\"col\"><div class=\"row no-gutters\"><div class=\"col-10 col-md-8 px-2 flex-column align-items-start justify-content-center\"><a href=\"/en/YuGiOh/Products/Singles/Dimension-Force/Chow-Sai-the-Ghost-Stopper\">Chow Sai the Ghost Stopper</a></div><div class=\"col-md-2 d-none d-lg-flex has-content-centered\">093</div><div class=\"col-sm-2 d-none d-sm-flex has-content-centered\"><span class=\"d-none d-md-flex\"><span class=\"icon\" data-html=\"true\" data-original-title=\"Super Rare\" data-placement=\"bottom\" data-toggle=\"tooltip\" onmouseout=\"hideMsgBox()\" onmouseover=\"showMsgBox(this,`Super Rare`)\" style=\"display: inline-block; width: 16px; height: 16px; background-image: url('//static.cardmarket.com/img/960ecc6e7779a97e34d5a75b7f571faa/spriteSheets/ssRarity/ssRarity3.png'); background-position: -176px -0px;\" title=\"Super Rare\"></span></span></div></div></div>, <div class=\"d-none col\">10</div>, <div class=\"col\"><div class=\"row no-gutters\"><div class=\"col-10 col-md-8 px-2 flex-column align-items-start justify-content-center\"><a href=\"/en/YuGiOh/Products/Singles/Dimension-Force/Motor-Frenzy\">Motor Frenzy</a></div><div class=\"col-md-2 d-none d-lg-flex has-content-centered\">092</div><div class=\"col-sm-2 d-none d-sm-flex has-content-centered\"><span class=\"d-none d-md-flex\"><span class=\"icon\" data-html=\"true\" data-original-title=\"Super Rare\" data-placement=\"bottom\" data-toggle=\"tooltip\" onmouseout=\"hideMsgBox()\" onmouseover=\"showMsgBox(this,`Super Rare`)\" style=\"display: inline-block; width: 16px; height: 16px; background-image: url('//static.cardmarket.com/img/960ecc6e7779a97e34d5a75b7f571faa/spriteSheets/ssRarity/ssRarity3.png'); background-position: -176px -0px;\" title=\"Super Rare\"></span></span></div></div></div>, <div class=\"d-none col\">11</div>, <div class=\"col\"><div class=\"row no-gutters\"><div class=\"col-10 col-md-8 px-2 flex-column align-items-start justify-content-center\"><a href=\"/en/YuGiOh/Products/Singles/Dimension-Force/Libromancer-Prevented\">Libromancer Prevented</a></div><div class=\"col-md-2 d-none d-lg-flex has-content-centered\">091</div><div class=\"col-sm-2 d-none d-sm-flex has-content-centered\"><span class=\"d-none d-md-flex\"><span class=\"icon\" data-html=\"true\" data-original-title=\"Super Rare\" data-placement=\"bottom\" data-toggle=\"tooltip\" onmouseout=\"hideMsgBox()\" onmouseover=\"showMsgBox(this,`Super Rare`)\" style=\"display: inline-block; width: 16px; height: 16px; background-image: url('//static.cardmarket.com/img/960ecc6e7779a97e34d5a75b7f571faa/spriteSheets/ssRarity/ssRarity3.png'); background-position: -176px -0px;\" title=\"Super Rare\"></span></span></div></div></div>, <div class=\"d-none col\">12</div>, <div class=\"col\"><div class=\"row no-gutters\"><div class=\"col-10 col-md-8 px-2 flex-column align-items-start justify-content-center\"><a href=\"/en/YuGiOh/Products/Singles/Dimension-Force/Libromancer-Displaced\">Libromancer Displaced</a></div><div class=\"col-md-2 d-none d-lg-flex has-content-centered\">090</div><div class=\"col-sm-2 d-none d-sm-flex has-content-centered\"><span class=\"d-none d-md-flex\"><span class=\"icon\" data-html=\"true\" data-original-title=\"Ultra Rare\" data-placement=\"bottom\" data-toggle=\"tooltip\" onmouseout=\"hideMsgBox()\" onmouseover=\"showMsgBox(this,`Ultra Rare`)\" style=\"display: inline-block; width: 16px; height: 16px; background-image: url('//static.cardmarket.com/img/960ecc6e7779a97e34d5a75b7f571faa/spriteSheets/ssRarity/ssRarity3.png'); background-position: -208px -0px;\" title=\"Ultra Rare\"></span></span></div></div></div>, <div class=\"d-none col\">13</div>, <div class=\"col\"><div class=\"row no-gutters\"><div class=\"col-10 col-md-8 px-2 flex-column align-items-start justify-content-center\"><a href=\"/en/YuGiOh/Products/Singles/Dimension-Force/Libromancer-Bonded\">Libromancer Bonded</a></div><div class=\"col-md-2 d-none d-lg-flex has-content-centered\">089</div><div class=\"col-sm-2 d-none d-sm-flex has-content-centered\"><span class=\"d-none d-md-flex\"><span class=\"icon\" data-html=\"true\" data-original-title=\"Super Rare\" data-placement=\"bottom\" data-toggle=\"tooltip\" onmouseout=\"hideMsgBox()\" onmouseover=\"showMsgBox(this,`Super Rare`)\" style=\"display: inline-block; width: 16px; height: 16px; background-image: url('//static.cardmarket.com/img/960ecc6e7779a97e34d5a75b7f571faa/spriteSheets/ssRarity/ssRarity3.png'); background-position: -176px -0px;\" title=\"Super Rare\"></span></span></div></div></div>, <div class=\"d-none col\">14</div>, <div class=\"col\"><div class=\"row no-gutters\"><div class=\"col-10 col-md-8 px-2 flex-column align-items-start justify-content-center\"><a href=\"/en/YuGiOh/Products/Singles/Dimension-Force/Libromancer-Realized\">Libromancer Realized</a></div><div class=\"col-md-2 d-none d-lg-flex has-content-centered\">088</div><div class=\"col-sm-2 d-none d-sm-flex has-content-centered\"><span class=\"d-none d-md-flex\"><span class=\"icon\" data-html=\"true\" data-original-title=\"Super Rare\" data-placement=\"bottom\" data-toggle=\"tooltip\" onmouseout=\"hideMsgBox()\" onmouseover=\"showMsgBox(this,`Super Rare`)\" style=\"display: inline-block; width: 16px; height: 16px; background-image: url('//static.cardmarket.com/img/960ecc6e7779a97e34d5a75b7f571faa/spriteSheets/ssRarity/ssRarity3.png'); background-position: -176px -0px;\" title=\"Super Rare\"></span></span></div></div></div>, <div class=\"d-none col\">15</div>, <div class=\"col\"><div class=\"row no-gutters\"><div class=\"col-10 col-md-8 px-2 flex-column align-items-start justify-content-center\"><a href=\"/en/YuGiOh/Products/Singles/Dimension-Force/Libromancer-Fireburst\">Libromancer Fireburst</a></div><div class=\"col-md-2 d-none d-lg-flex has-content-centered\">087</div><div class=\"col-sm-2 d-none d-sm-flex has-content-centered\"><span class=\"d-none d-md-flex\"><span class=\"icon\" data-html=\"true\" data-original-title=\"Ultra Rare\" data-placement=\"bottom\" data-toggle=\"tooltip\" onmouseout=\"hideMsgBox()\" onmouseover=\"showMsgBox(this,`Ultra Rare`)\" style=\"display: inline-block; width: 16px; height: 16px; background-image: url('//static.cardmarket.com/img/960ecc6e7779a97e34d5a75b7f571faa/spriteSheets/ssRarity/ssRarity3.png'); background-position: -208px -0px;\" title=\"Ultra Rare\"></span></span></div></div></div>, <div class=\"d-none col\">16</div>, <div class=\"col\"><div class=\"row no-gutters\"><div class=\"col-10 col-md-8 px-2 flex-column align-items-start justify-content-center\"><a href=\"/en/YuGiOh/Products/Singles/Dimension-Force/Libromancer-Mystigirl\">Libromancer Mystigirl</a></div><div class=\"col-md-2 d-none d-lg-flex has-content-centered\">086</div><div class=\"col-sm-2 d-none d-sm-flex has-content-centered\"><span class=\"d-none d-md-flex\"><span class=\"icon\" data-html=\"true\" data-original-title=\"Super Rare\" data-placement=\"bottom\" data-toggle=\"tooltip\" onmouseout=\"hideMsgBox()\" onmouseover=\"showMsgBox(this,`Super Rare`)\" style=\"display: inline-block; width: 16px; height: 16px; background-image: url('//static.cardmarket.com/img/960ecc6e7779a97e34d5a75b7f571faa/spriteSheets/ssRarity/ssRarity3.png'); background-position: -176px -0px;\" title=\"Super Rare\"></span></span></div></div></div>, <div class=\"d-none col\">17</div>, <div class=\"col\"><div class=\"row no-gutters\"><div class=\"col-10 col-md-8 px-2 flex-column align-items-start justify-content-center\"><a href=\"/en/YuGiOh/Products/Singles/Dimension-Force/Backup-Team\">Backup Team</a></div><div class=\"col-md-2 d-none d-lg-flex has-content-centered\">085</div><div class=\"col-sm-2 d-none d-sm-flex has-content-centered\"><span class=\"d-none d-md-flex\"><span class=\"icon\" data-html=\"true\" data-original-title=\"Common\" data-placement=\"bottom\" data-toggle=\"tooltip\" onmouseout=\"hideMsgBox()\" onmouseover=\"showMsgBox(this,`Common`)\" style=\"display: inline-block; width: 16px; height: 16px; background-image: url('//static.cardmarket.com/img/960ecc6e7779a97e34d5a75b7f571faa/spriteSheets/ssRarity/ssRarity3.png'); background-position: -0px -0px;\" title=\"Common\"></span></span></div></div></div>, <div class=\"d-none col\">18</div>, <div class=\"col\"><div class=\"row no-gutters\"><div class=\"col-10 col-md-8 px-2 flex-column align-items-start justify-content-center\"><a href=\"/en/YuGiOh/Products/Singles/Dimension-Force/Omega-Judgment\">Omega Judgment</a></div><div class=\"col-md-2 d-none d-lg-flex has-content-centered\">084</div><div class=\"col-sm-2 d-none d-sm-flex has-content-centered\"><span class=\"d-none d-md-flex\"><span class=\"icon\" data-html=\"true\" data-original-title=\"Common\" data-placement=\"bottom\" data-toggle=\"tooltip\" onmouseout=\"hideMsgBox()\" onmouseover=\"showMsgBox(this,`Common`)\" style=\"display: inline-block; width: 16px; height: 16px; background-image: url('//static.cardmarket.com/img/960ecc6e7779a97e34d5a75b7f571faa/spriteSheets/ssRarity/ssRarity3.png'); background-position: -0px -0px;\" title=\"Common\"></span></span></div></div></div>, <div class=\"d-none col\">19</div>, <div class=\"col\"><div class=\"row no-gutters\"><div class=\"col-10 col-md-8 px-2 flex-column align-items-start justify-content-center\"><a href=\"/en/YuGiOh/Products/Singles/Dimension-Force/Patissciel-Couverture-V1-Super-Rare\">Patissciel Couverture (V.1 - Super Rare)</a></div><div class=\"col-md-2 d-none d-lg-flex has-content-centered\">083</div><div class=\"col-sm-2 d-none d-sm-flex has-content-centered\"><span class=\"d-none d-md-flex\"><span class=\"icon\" data-html=\"true\" data-original-title=\"Super Rare\" data-placement=\"bottom\" data-toggle=\"tooltip\" onmouseout=\"hideMsgBox()\" onmouseover=\"showMsgBox(this,`Super Rare`)\" style=\"display: inline-block; width: 16px; height: 16px; background-image: url('//static.cardmarket.com/img/960ecc6e7779a97e34d5a75b7f571faa/spriteSheets/ssRarity/ssRarity3.png'); background-position: -176px -0px;\" title=\"Super Rare\"></span></span></div></div></div>, <div class=\"d-none col\">20</div>, <div class=\"col\"><div class=\"row no-gutters\"><div class=\"col-10 col-md-8 px-2 flex-column align-items-start justify-content-center\"><a href=\"/en/YuGiOh/Products/Singles/Dimension-Force/Patissciel-Couverture-V2-Starlight-Rare\">Patissciel Couverture (V.2 - Starlight Rare)</a></div><div class=\"col-md-2 d-none d-lg-flex has-content-centered\">083</div><div class=\"col-sm-2 d-none d-sm-flex has-content-centered\"><span class=\"d-none d-md-flex\"><span class=\"icon\" data-html=\"true\" data-original-title=\"Starlight Rare\" data-placement=\"bottom\" data-toggle=\"tooltip\" onmouseout=\"hideMsgBox()\" onmouseover=\"showMsgBox(this,`Starlight Rare`)\" style=\"display: inline-block; width: 16px; height: 16px; background-image: url('//static.cardmarket.com/img/960ecc6e7779a97e34d5a75b7f571faa/spriteSheets/ssRarity/ssRarity3.png'); background-position: -272px -0px;\" title=\"Starlight Rare\"></span></span></div></div></div>, <div class=\"col\"><ul class=\"nav align-items-center justify-content-start font-weight-bold\"><li class=\"nav-item text-uppercase\"><a class=\"nav-link\" href=\"/en/YuGiOh/Policies/GeneralTermsAndConditions\" title=\"General Terms and Conditions\">General Terms and Conditions</a></li><li class=\"nav-item text-uppercase\"><a class=\"nav-link\" href=\"/en/YuGiOh/AboutUs\" title=\"About Us\">About Us</a></li><li class=\"nav-item text-uppercase\"><a class=\"nav-link\" href=\"/en/YuGiOh/Policies/PrivacyPolicy\" title=\"Privacy Policy\">Privacy Policy</a></li><li class=\"nav-item text-uppercase\"><a class=\"nav-link\" href=\"/en/YuGiOh/Help\" title=\"Help\">Help</a></li><li class=\"nav-item text-uppercase\"><a class=\"nav-link\" href=\"/en/YuGiOh/Jobs\" title=\"Jobs\">Jobs</a></li><li class=\"dropup nav-item ml-auto\"><a aria-expanded=\"false\" aria-haspopup=\"true\" class=\"nav-link dropdown-toggle text-nowrap text-uppercase\" data-toggle=\"dropdown\" href=\"#\" role=\"button\"><small class=\"text-muted\">Language:</small><span class=\"icon mx-2 align-text-bottom\" onmouseout=\"return false;\" onmouseover=\"return false;\" style=\"display: inline-block; width: 16px; height: 16px; background-image: url('//static.cardmarket.com/img/f8d806e6267c7c859592cba11335f3d6/spriteSheets/ssMain2.png'); background-position: -16px -0px;\"></span><span>English</span></a><div class=\"dropdown-menu dropdown-menu-right\"><h6 class=\"d-none d-lg-block dropdown-header\">Choose a language</h6><a class=\"dropdown-item text-uppercase hvr-sweep-to-right\" href=\"/fr/YuGiOh/Products/Singles/Dimension-Force?sortBy=collectorsnumber_desc\" rel=\"nofollow\" title=\"Français\"><span class=\"icon mr-2 align-text-bottom\" data-html=\"true\" data-original-title=\"French\" data-placement=\"bottom\" data-toggle=\"tooltip\" onmouseout=\"return false;\" onmouseover=\"return false;\" style=\"display: inline-block; width: 16px; height: 16px; background-image: url('//static.cardmarket.com/img/f8d806e6267c7c859592cba11335f3d6/spriteSheets/ssMain2.png'); background-position: -48px -0px;\" title=\"\"></span><span>Français</span></a><a class=\"dropdown-item text-uppercase hvr-sweep-to-right\" href=\"/de/YuGiOh/Products/Singles/Dimension-Force?sortBy=collectorsnumber_desc\" rel=\"nofollow\" title=\"Deutsch\"><span class=\"icon mr-2 align-text-bottom\" data-html=\"true\" data-original-title=\"German\" data-placement=\"bottom\" data-toggle=\"tooltip\" onmouseout=\"return false;\" onmouseover=\"return false;\" style=\"display: inline-block; width: 16px; height: 16px; background-image: url('//static.cardmarket.com/img/f8d806e6267c7c859592cba11335f3d6/spriteSheets/ssMain2.png'); background-position: -80px -0px;\" title=\"\"></span><span>Deutsch</span></a><a class=\"dropdown-item text-uppercase hvr-sweep-to-right\" href=\"/es/YuGiOh/Products/Singles/Dimension-Force?sortBy=collectorsnumber_desc\" rel=\"nofollow\" title=\"Español\"><span class=\"icon mr-2 align-text-bottom\" data-html=\"true\" data-original-title=\"Spanish\" data-placement=\"bottom\" data-toggle=\"tooltip\" onmouseout=\"return false;\" onmouseover=\"return false;\" style=\"display: inline-block; width: 16px; height: 16px; background-image: url('//static.cardmarket.com/img/f8d806e6267c7c859592cba11335f3d6/spriteSheets/ssMain2.png'); background-position: -112px -0px;\" title=\"\"></span><span>Español</span></a><a class=\"dropdown-item text-uppercase hvr-sweep-to-right\" href=\"/it/YuGiOh/Products/Singles/Dimension-Force?sortBy=collectorsnumber_desc\" rel=\"nofollow\" title=\"Italiano\"><span class=\"icon mr-2 align-text-bottom\" data-html=\"true\" data-original-title=\"Italian\" data-placement=\"bottom\" data-toggle=\"tooltip\" onmouseout=\"return false;\" onmouseover=\"return false;\" style=\"display: inline-block; width: 16px; height: 16px; background-image: url('//static.cardmarket.com/img/f8d806e6267c7c859592cba11335f3d6/spriteSheets/ssMain2.png'); background-position: -144px -0px;\" title=\"\"></span><span>Italiano</span></a><p class=\"dropdown-info dropdown-item text-muted py-2\"><small>This changes the language of the site.<br/>It won't change any text entered by users.</small></p></div></li></ul></div>, <div class=\"col col-md-6\"><p class=\"text-muted text-center text-md-left\" id=\"copyright\"><small>© Copyright 2022 Sammelkartenmarkt GmbH und Co. KG. All rights reserved.</small></p></div>, <div class=\"col d-none d-md-block text-right\"><a class=\"icon is-24x24 my-2 ml-3\" data-html=\"true\" data-placement=\"bottom\" data-toggle=\"tooltip\" href=\"https://www.facebook.com/CardmarketYugioh\" rel=\"nofollow\" target=\"_blank\" title=\"Facebook - Cardmarket\"><span class=\"fonticon-facebook\"></span></a><a class=\"icon is-24x24 my-2 ml-3\" data-html=\"true\" data-placement=\"bottom\" data-toggle=\"tooltip\" href=\"https://twitter.com/CardmarketYGO\" rel=\"nofollow\" target=\"_blank\" title=\"Twitter - Cardmarket\"><span class=\"fonticon-twitter\"></span></a><a class=\"icon is-24x24 my-2 ml-3\" data-html=\"true\" data-placement=\"bottom\" data-toggle=\"tooltip\" href=\"https://www.instagram.com/cardmarket_yugioh/\" rel=\"nofollow\" target=\"_blank\" title=\"Instagram - Cardmarket\"><span class=\"fonticon-instagram\"></span></a><a class=\"icon is-24x24 my-2 ml-3\" data-html=\"true\" data-placement=\"bottom\" data-toggle=\"tooltip\" href=\"https://www.twitch.tv/cardmarket_yugioh\" rel=\"nofollow\" target=\"_blank\" title=\"Twitch - Cardmarket\"><span class=\"fonticon-twitch\"></span></a><a class=\"icon is-24x24 my-2 ml-3\" data-html=\"true\" data-placement=\"bottom\" data-toggle=\"tooltip\" href=\"https://youtube.com/c/CardmarketYGO\" rel=\"nofollow\" target=\"_blank\" title=\"Youtube - Cardmarket\"><span class=\"fonticon-youtube\"></span></a></div>]\n"
     ]
    }
   ],
   "source": []
  },
  {
   "cell_type": "code",
   "execution_count": 13,
   "id": "597f9eec",
   "metadata": {},
   "outputs": [
    {
     "name": "stdout",
     "output_type": "stream",
     "text": [
      "<a href=\"/en/YuGiOh/Products/Singles/Dimension-Force/Visas-Starfrost-V2-Ultra-Rare\">Visas Starfrost (V.2 - Ultra Rare)</a>\n"
     ]
    }
   ],
   "source": [
    "#Getting cardmarket index\n",
    "for entry in card_price_info[:10]:\n",
    "    if entry.find('a') != None:\n",
    "        cardmarket_url = entry.find('a')\n",
    "        print(cardmarket_url)\n",
    "        if (cardmarket_url.attrs['href'] != 'https://www.facebook.com/CardmarketYugioh') and (cardmarket_url.attrs['href'] != '/en/YuGiOh/Policies/GeneralTermsAndConditions'):\n",
    "            link = 'https://www.cardmarket.com/' + cardmarket_url.attrs['href']\n",
    "            break"
   ]
  },
  {
   "cell_type": "code",
   "execution_count": 7,
   "id": "d36a8059",
   "metadata": {},
   "outputs": [
    {
     "name": "stdout",
     "output_type": "stream",
     "text": [
      "https://www.cardmarket.com//en/YuGiOh/Products/Singles/Dimension-Force/Visas-Starfrost-V2-Ultra-Rare\n"
     ]
    }
   ],
   "source": [
    "print(link)"
   ]
  },
  {
   "cell_type": "code",
   "execution_count": 8,
   "id": "a0e79454",
   "metadata": {},
   "outputs": [],
   "source": [
    "if \"-V2-Ultra-Rare\" in link:\n",
    "    cardmarket_result = requests.get('https://www.cardmarket.com//en/YuGiOh/Products/Singles/Dimension-Force/Visas-Starfrost-V2-Ultra-Rare')\n",
    "    src = cardmarket_result.content\n",
    "    soup = BeautifulSoup(src, 'html.parser')\n",
    "    \n",
    "    \n",
    "        #use the code from before to get this in as the promo card?"
   ]
  },
  {
   "cell_type": "code",
   "execution_count": 10,
   "id": "119cc1fe",
   "metadata": {},
   "outputs": [
    {
     "data": {
      "text/plain": [
       "'Visas Starfrost (V.2 - Ultra Rare)Dimension Force - Singles'"
      ]
     },
     "execution_count": 10,
     "metadata": {},
     "output_type": "execute_result"
    }
   ],
   "source": [
    "name = soup.find('h1')\n",
    "name.text"
   ]
  },
  {
   "cell_type": "code",
   "execution_count": null,
   "id": "aad271c9",
   "metadata": {},
   "outputs": [],
   "source": []
  }
 ],
 "metadata": {
  "kernelspec": {
   "display_name": "Python 3",
   "language": "python",
   "name": "python3"
  },
  "language_info": {
   "codemirror_mode": {
    "name": "ipython",
    "version": 3
   },
   "file_extension": ".py",
   "mimetype": "text/x-python",
   "name": "python",
   "nbconvert_exporter": "python",
   "pygments_lexer": "ipython3",
   "version": "3.8.8"
  }
 },
 "nbformat": 4,
 "nbformat_minor": 5
}
