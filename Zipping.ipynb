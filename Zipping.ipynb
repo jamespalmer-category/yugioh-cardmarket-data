{
 "cells": [
  {
   "cell_type": "code",
   "execution_count": 1,
   "id": "511c4661",
   "metadata": {},
   "outputs": [],
   "source": [
    "import shutil\n",
    "years = [str(2017 + i) for i in range(0,6)]\n",
    "for year in years:\n",
    "    shutil.make_archive('cardmarket_data_by_year\\{}'.format(year), 'zip', 'cardmarket_data_by_year\\{}'.format(year))"
   ]
  },
  {
   "cell_type": "code",
   "execution_count": null,
   "id": "5119e819",
   "metadata": {},
   "outputs": [],
   "source": [
    "card_name = 'POTE-003 Spright Blue price.csv'"
   ]
  },
  {
   "cell_type": "code",
   "execution_count": 4,
   "id": "b7a2d6be",
   "metadata": {},
   "outputs": [
    {
     "data": {
      "text/plain": [
       "['.ipynb_checkpoints',\n",
       " 'POTE-000 Ghoti of the Deep Beyond (V.1 - Secret Rare) price.csv',\n",
       " 'POTE-001 Elemental HERO Spirit of Neos price.csv',\n",
       " 'POTE-002 Cross Keeper price.csv',\n",
       " 'POTE-003 Spright Blue price.csv',\n",
       " 'POTE-004 Spright Jet price.csv',\n",
       " 'POTE-005 Spright Pixies price.csv',\n",
       " 'POTE-006 Spright Red price.csv',\n",
       " 'POTE-007 Spright Carrot price.csv',\n",
       " 'POTE-008 Therion Empress Alasia price.csv',\n",
       " 'POTE-009 Therion Irregular price.csv',\n",
       " 'POTE-010 Icejade Creation Aegirocassis price.csv',\n",
       " 'POTE-011 Albaz the Ashen price.csv',\n",
       " 'POTE-012 Tearlaments Merrli price.csv',\n",
       " 'POTE-013 Tearlaments Havnis price.csv',\n",
       " 'POTE-014 Tearlaments Scheiren price.csv',\n",
       " 'POTE-015 Tearlaments Reinoheart price.csv',\n",
       " 'POTE-016 Vernusylph of the Flourishing Hills price.csv',\n",
       " 'POTE-017 Vernusylph of the Awakening Forests price.csv',\n",
       " 'POTE-018 Vernusylph of the Flowering Fields price.csv',\n",
       " 'POTE-019 Vernusylph of the Thawing Mountains price.csv',\n",
       " 'POTE-020 Gem-Knight Quartz price.csv',\n",
       " 'POTE-021 Brilliant Rose price.csv',\n",
       " 'POTE-022 Melffy Wally price.csv',\n",
       " 'POTE-023 Melffy Pinny price.csv',\n",
       " 'POTE-024 Scar of the Vendread price.csv',\n",
       " 'POTE-025 Exosister Martha (V.1 - Secret Rare) price.csv',\n",
       " 'POTE-025 Exosister Martha (V.2 - Starlight Rare) price.csv',\n",
       " 'POTE-026 Gunkan Suship Shari Red price.csv',\n",
       " 'POTE-027 Rikka Princess price.csv',\n",
       " 'POTE-028 Mathmech Circular price.csv',\n",
       " 'POTE-029 Krawler Soma price.csv',\n",
       " 'POTE-030 Mokey Mokey Adrift price.csv',\n",
       " 'POTE-031 Kurikara Divincarnate (V.1 - Secret Rare) price.csv',\n",
       " 'POTE-031 Kurikara Divincarnate (V.2 - Starlight Rare) price.csv',\n",
       " 'POTE-032 Aussa the Earth Channeler (V.1 - Ultra Rare) price.csv',\n",
       " 'POTE-032 Aussa the Earth Channeler (V.2 - Starlight Rare) price.csv',\n",
       " 'POTE-033 Grandtusk Dragon price.csv',\n",
       " 'POTE-034 Eka the Flame Buddy price.csv',\n",
       " 'POTE-035 Propa Gandake price.csv',\n",
       " 'POTE-036 Cartorhyn the Hidden Gem of the Seafront price.csv',\n",
       " \"POTE-037 Emperor Tanuki's Critter Count price.csv\",\n",
       " 'POTE-038 Nightmell the Dark Bonder price.csv',\n",
       " 'POTE-039 Hydralander Orbit price.csv',\n",
       " 'POTE-040 Vendread Scavenger price.csv',\n",
       " 'POTE-041 Elemental HERO Shining Neos Wingman price.csv',\n",
       " 'POTE-042 Tearlaments Kitkallos price.csv',\n",
       " 'POTE-043 Tearlaments Kaleido-Heart price.csv',\n",
       " 'POTE-044 Gem-Knight Lady Rose Diamond price.csv',\n",
       " 'POTE-045 Merry Melffys price.csv',\n",
       " 'POTE-046 P.U.N.K. JAM Dragon Drive price.csv',\n",
       " 'POTE-047 Gigantic Spright price.csv',\n",
       " 'POTE-048 Ashura King price.csv',\n",
       " 'POTE-049 Spright Elf price.csv',\n",
       " 'POTE-050 Scareclaw Light-Heart price.csv',\n",
       " 'POTE-051 EN - Engage Neo Space price.csv',\n",
       " 'POTE-052 Instant Contact price.csv',\n",
       " 'POTE-053 EN Wave price.csv',\n",
       " 'POTE-054 Over Fusion price.csv',\n",
       " 'POTE-055 Spright Starter price.csv',\n",
       " 'POTE-056 Spright Gamma Burst price.csv',\n",
       " 'POTE-057 Spright Smashers price.csv',\n",
       " 'POTE-058 Branded in Central Dogmatika price.csv',\n",
       " 'POTE-059 Scareclaw Straddle price.csv',\n",
       " 'POTE-060 Primeval Planet Perlereino price.csv',\n",
       " 'POTE-061 Vernusylph Corolla price.csv',\n",
       " 'POTE-062 Scatter Fusion price.csv',\n",
       " 'POTE-063 Melffy Staring Contest price.csv',\n",
       " 'POTE-064 Ravenous Vendread price.csv',\n",
       " 'POTE-065 P.U.N.K. JAM Extreme Session price.csv',\n",
       " 'POTE-066 Rikka Konkon price.csv',\n",
       " 'POTE-067 Ultimate Slayer (V.1 - Secret Rare) price.csv',\n",
       " 'POTE-067 Ultimate Slayer (V.2 - Starlight Rare) price.csv',\n",
       " 'POTE-068 Digit Jamming price.csv',\n",
       " 'POTE-069 Favorite Contact price.csv',\n",
       " 'POTE-070 Branded Expulsion price.csv',\n",
       " 'POTE-071 Tearlaments Metanoise price.csv',\n",
       " 'POTE-072 Tearlaments Sulliek price.csv',\n",
       " 'POTE-073 Tearlaments Cryme price.csv',\n",
       " 'POTE-074 Vernusylph and the Changing Season price.csv',\n",
       " 'POTE-075 Vernusylph and the Flower Buds price.csv',\n",
       " 'POTE-076 Exosister Returnia price.csv',\n",
       " 'POTE-077 Amaze Attraction Thrill Train price.csv',\n",
       " 'POTE-078 Terrors of the Overroot price.csv',\n",
       " 'POTE-079 Draco-Utopian Aura price.csv',\n",
       " 'POTE-080 Double Dust Tornado Twins price.csv',\n",
       " 'POTE-081 Vanguard of the Underground Emperor price.csv',\n",
       " 'POTE-082 Garura, Wings of Resonant Life price.csv',\n",
       " 'POTE-083 Pitknight Earlie price.csv',\n",
       " 'POTE-084 Moray of Avarice price.csv',\n",
       " 'POTE-085 Mimesis Elephant price.csv',\n",
       " 'POTE-086 Paces, Light of the Ghoti price.csv',\n",
       " 'POTE-087 Shif, Fairy of the Ghoti price.csv',\n",
       " 'POTE-088 Eanoc, Sentry of the Ghoti price.csv',\n",
       " 'POTE-089 Askaan, the Bicorned Ghoti price.csv',\n",
       " 'POTE-090 The Most Distant, Deepest Depths price.csv',\n",
       " 'POTE-091 Ghoti Chain price.csv',\n",
       " 'POTE-092 Loris, Lady of Lament price.csv',\n",
       " 'POTE-093 Morphtronic Telefon price.csv',\n",
       " 'POTE-094 Gadget Gamer price.csv',\n",
       " 'POTE-095 Morphtronic Scannen price.csv',\n",
       " 'POTE-096 Morphtronic Earfon price.csv',\n",
       " 'POTE-097 Power Tool Braver Dragon price.csv',\n",
       " 'POTE-098 Morphtronic Converter price.csv',\n",
       " 'POTE-099 Life Extreme price.csv',\n",
       " 'POTE-100 Destiny HERO - Destroyer Phoenix Enforcer price.csv',\n",
       " 'POTE-SP1 Ghoti of the Deep Beyond (V.2 - Ultra Rare) price.csv']"
      ]
     },
     "execution_count": 4,
     "metadata": {},
     "output_type": "execute_result"
    }
   ],
   "source": [
    "import os\n",
    "os.listdir('cardmarket_data_by_year\\\\2022\\\\POTE')"
   ]
  },
  {
   "cell_type": "code",
   "execution_count": 14,
   "id": "89e5316a",
   "metadata": {},
   "outputs": [
    {
     "name": "stdout",
     "output_type": "stream",
     "text": [
      "SDCB-001 Crystal Beast Ruby Carbuncle.csv\n"
     ]
    }
   ],
   "source": [
    "import os\n",
    "import re\n",
    "\n",
    "for file_name in os.listdir('cardmarket_data_by_year\\\\2022\\\\SDCB')[0:1]:\n",
    "    re_file_name = re.sub(' price.csv', '.csv', file_name)\n",
    "    print(re_file_name)\n",
    "    os.rename('cardmarket_data_by_year\\\\2022\\\\SDCB\\\\' + file_name, 'cardmarket_data_by_year\\\\2022\\\\SDCB\\\\' + re_file_name)"
   ]
  },
  {
   "cell_type": "code",
   "execution_count": null,
   "id": "c94b886d",
   "metadata": {},
   "outputs": [],
   "source": []
  }
 ],
 "metadata": {
  "kernelspec": {
   "display_name": "Python 3",
   "language": "python",
   "name": "python3"
  },
  "language_info": {
   "codemirror_mode": {
    "name": "ipython",
    "version": 3
   },
   "file_extension": ".py",
   "mimetype": "text/x-python",
   "name": "python",
   "nbconvert_exporter": "python",
   "pygments_lexer": "ipython3",
   "version": "3.8.8"
  }
 },
 "nbformat": 4,
 "nbformat_minor": 5
}
