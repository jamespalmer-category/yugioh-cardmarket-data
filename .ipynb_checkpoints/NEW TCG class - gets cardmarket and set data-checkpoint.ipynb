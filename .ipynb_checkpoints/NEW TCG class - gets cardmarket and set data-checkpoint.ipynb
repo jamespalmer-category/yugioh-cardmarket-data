{
 "cells": [
  {
   "cell_type": "code",
   "execution_count": 2,
   "id": "e938c891",
   "metadata": {},
   "outputs": [],
   "source": [
    "import requests\n",
    "import numpy as np\n",
    "import pandas as pd\n",
    "from bs4 import BeautifulSoup\n",
    "import re"
   ]
  },
  {
   "cell_type": "code",
   "execution_count": 33,
   "id": "6f89bd2b",
   "metadata": {},
   "outputs": [],
   "source": [
    "result = requests.get(\"https://yugipedia.com/wiki/2022_Tin_of_the_Pharaoh%27s_Gods\")\n",
    "src = result.content\n",
    "soup = BeautifulSoup(src, 'html.parser')"
   ]
  },
  {
   "cell_type": "code",
   "execution_count": 36,
   "id": "8ad27187",
   "metadata": {},
   "outputs": [],
   "source": [
    "Jeff = soup.find('h1')"
   ]
  },
  {
   "cell_type": "code",
   "execution_count": 37,
   "id": "d500cbf1",
   "metadata": {},
   "outputs": [
    {
     "data": {
      "text/plain": [
       "\"2022 Tin of the Pharaoh's Gods\""
      ]
     },
     "execution_count": 37,
     "metadata": {},
     "output_type": "execute_result"
    }
   ],
   "source": [
    "Jeff.text"
   ]
  },
  {
   "cell_type": "code",
   "execution_count": 41,
   "id": "3419d273",
   "metadata": {},
   "outputs": [],
   "source": [
    "#Get the set page from https://yugipedia.com/wiki/Yugipedia\n",
    "class TCG_set:\n",
    "    def __init__(self, url):\n",
    "        \n",
    "        #Getting the url we put in\n",
    "        self.url = url\n",
    "        result = requests.get(url)\n",
    "        src = result.content\n",
    "        soup = BeautifulSoup(src, 'html.parser')\n",
    "        \n",
    "        #Getting the name of the set\n",
    "        set_name = soup.find('h1')\n",
    "        self.set_name = set_name.text\n",
    "        \n",
    "        #Getting the content of the set\n",
    "        card_info_headers = soup.find(attrs = {'class':'set-list'})\n",
    "\n",
    "        #getting the name of each table column - not convinced we need this\n",
    "        #col_name = []\n",
    "        #headers = card_info_headers.find_all('th')\n",
    "        #for header in headers:\n",
    "        #    col_name.append(header.text)\n",
    "\n",
    "        #split table data into the five categories from the title above\n",
    "        card_number = []\n",
    "        card_name = []\n",
    "        card_rarity = []\n",
    "        card_category = []\n",
    "        card_print = []\n",
    "        table_data = card_info_headers.find_all('td')\n",
    "        for i in range(0,len(table_data)):\n",
    "            if (i % 5 == 0):\n",
    "                card_number.append(table_data[i].text)\n",
    "            elif (i % 5 == 1):\n",
    "                card_name.append(table_data[i].text)\n",
    "            elif (i % 5 == 2):\n",
    "                card_rarity.append(table_data[i].text)\n",
    "            elif (i % 5 == 3):\n",
    "                card_category.append(table_data[i].text)\n",
    "            else:\n",
    "                card_print.append(table_data[i].text)\n",
    "\n",
    "        set_content = pd.DataFrame({\"Set Number\" : card_number, \"Name\": card_name, \"Rarity\": card_rarity, \"Category\": card_category, \"Print\" : card_print})\n",
    "        self.set_content = set_content\n",
    "        \n",
    "        def to_csv(self):\n",
    "            self.set_content.to_csv('{}.csv'.format(self.set_name))"
   ]
  },
  {
   "cell_type": "code",
   "execution_count": 42,
   "id": "adbd1b4e",
   "metadata": {
    "scrolled": true
   },
   "outputs": [
    {
     "name": "stdout",
     "output_type": "stream",
     "text": [
      "2022 Tin of the Pharaoh's Gods https://yugipedia.com/wiki/2022_Tin_of_the_Pharaoh%27s_Gods      Set Number                         Name                 Rarity  \\\n",
      "0    MP22-EN001  \"Armed Dragon Thunder LV10\"             Ultra Rare   \n",
      "1    MP22-EN002   \"Armed Dragon Thunder LV7\"  Prismatic Secret Rare   \n",
      "2    MP22-EN003   \"Armed Dragon Thunder LV5\"                 Common   \n",
      "3    MP22-EN004   \"Armed Dragon Thunder LV3\"                 Common   \n",
      "4    MP22-EN005    \"Armed Dragon LV10 White\"                   Rare   \n",
      "..          ...                          ...                    ...   \n",
      "270  MP22-EN271      \"Link into the VRAINS!\"  Prismatic Secret Rare   \n",
      "271  MP22-EN272         \"Soul Energy MAX!!!\"             Ultra Rare   \n",
      "272  MP22-EN273        \"The Revived Sky God\"             Ultra Rare   \n",
      "273  MP22-EN274      \"The Breaking Ruin God\"             Ultra Rare   \n",
      "274  MP22-EN275           \"The True Sun God\"             Ultra Rare   \n",
      "\n",
      "             Category    Print  \n",
      "0      Effect Monster  Reprint  \n",
      "1      Effect Monster  Reprint  \n",
      "2      Effect Monster  Reprint  \n",
      "3      Effect Monster  Reprint  \n",
      "4      Effect Monster  Reprint  \n",
      "..                ...      ...  \n",
      "270      Normal Spell      New  \n",
      "271       Normal Trap      New  \n",
      "272       Normal Trap      New  \n",
      "273  Quick-Play Spell      New  \n",
      "274  Continuous Spell      New  \n",
      "\n",
      "[275 rows x 5 columns]\n"
     ]
    }
   ],
   "source": [
    "#Test that it works\n",
    "MP22 = TCG_set(\"https://yugipedia.com/wiki/2022_Tin_of_the_Pharaoh%27s_Gods\")\n",
    "print(MP22.set_name, MP22.url, MP22.set_content)"
   ]
  },
  {
   "cell_type": "code",
   "execution_count": 40,
   "id": "ed14fa4e",
   "metadata": {},
   "outputs": [],
   "source": [
    "result = requests.get(\"https://yugipedia.com/wiki/2022_Tin_of_the_Pharaoh%27s_Gods\")\n",
    "src = result.content\n",
    "soup = BeautifulSoup(src, 'html.parser')\n",
    "card_info_headers = soup.find(attrs = {'class':'set-list'})\n",
    "\n",
    "#getting the name of each table column\n",
    "col_name = []\n",
    "headers = card_info_headers.find_all('th')\n",
    "for header in headers:\n",
    "    col_name.append(header.text)\n",
    "    \n",
    "#split table data into the five categories from the title above\n",
    "card_number = []\n",
    "card_name = []\n",
    "card_rarity = []\n",
    "card_category = []\n",
    "card_print = []\n",
    "table_data = card_info_headers.find_all('td')\n",
    "for i in range(0,len(table_data)):\n",
    "    if (i % 5 == 0):\n",
    "        card_number.append(table_data[i].text)\n",
    "    elif (i % 5 == 1):\n",
    "        card_name.append(table_data[i].text)\n",
    "    elif (i % 5 == 2):\n",
    "        card_rarity.append(table_data[i].text)\n",
    "    elif (i % 5 == 3):\n",
    "        card_category.append(table_data[i].text)\n",
    "    else:\n",
    "        card_print.append(table_data[i].text)"
   ]
  },
  {
   "cell_type": "code",
   "execution_count": 41,
   "id": "2f8e87e4",
   "metadata": {},
   "outputs": [],
   "source": [
    "df = pd.DataFrame({\"Number\": card_number, \"Name\": card_name, \"Rarity\": card_rarity, \"Category\": card_category, \"Print\" : card_print})"
   ]
  },
  {
   "cell_type": "code",
   "execution_count": 42,
   "id": "0af2e5c6",
   "metadata": {
    "scrolled": true
   },
   "outputs": [
    {
     "name": "stdout",
     "output_type": "stream",
     "text": [
      "275 275 275 275 275\n"
     ]
    }
   ],
   "source": [
    "print(len(card_number), len(card_name), len(card_category), len(card_rarity), len(card_print))"
   ]
  },
  {
   "cell_type": "code",
   "execution_count": 43,
   "id": "4b690206",
   "metadata": {},
   "outputs": [
    {
     "name": "stdout",
     "output_type": "stream",
     "text": [
      "         Number                         Name                 Rarity  \\\n",
      "0    MP22-EN001  \"Armed Dragon Thunder LV10\"             Ultra Rare   \n",
      "1    MP22-EN002   \"Armed Dragon Thunder LV7\"  Prismatic Secret Rare   \n",
      "2    MP22-EN003   \"Armed Dragon Thunder LV5\"                 Common   \n",
      "3    MP22-EN004   \"Armed Dragon Thunder LV3\"                 Common   \n",
      "4    MP22-EN005    \"Armed Dragon LV10 White\"                   Rare   \n",
      "..          ...                          ...                    ...   \n",
      "270  MP22-EN271      \"Link into the VRAINS!\"  Prismatic Secret Rare   \n",
      "271  MP22-EN272         \"Soul Energy MAX!!!\"             Ultra Rare   \n",
      "272  MP22-EN273        \"The Revived Sky God\"             Ultra Rare   \n",
      "273  MP22-EN274      \"The Breaking Ruin God\"             Ultra Rare   \n",
      "274  MP22-EN275           \"The True Sun God\"             Ultra Rare   \n",
      "\n",
      "             Category    Print  \n",
      "0      Effect Monster  Reprint  \n",
      "1      Effect Monster  Reprint  \n",
      "2      Effect Monster  Reprint  \n",
      "3      Effect Monster  Reprint  \n",
      "4      Effect Monster  Reprint  \n",
      "..                ...      ...  \n",
      "270      Normal Spell      New  \n",
      "271       Normal Trap      New  \n",
      "272       Normal Trap      New  \n",
      "273  Quick-Play Spell      New  \n",
      "274  Continuous Spell      New  \n",
      "\n",
      "[275 rows x 5 columns]\n"
     ]
    }
   ],
   "source": [
    "print(df)"
   ]
  },
  {
   "cell_type": "code",
   "execution_count": 45,
   "id": "f2773129",
   "metadata": {},
   "outputs": [],
   "source": [
    "df.to_csv('2022 Tin of the Pharoh\\'s Gods.csv')"
   ]
  },
  {
   "cell_type": "code",
   "execution_count": 24,
   "id": "b600cdbf",
   "metadata": {},
   "outputs": [],
   "source": [
    "df = pd.read_csv('2022 Tin of the Pharoh\\'s Gods (amended).csv')"
   ]
  },
  {
   "cell_type": "code",
   "execution_count": null,
   "id": "e66a1305",
   "metadata": {},
   "outputs": [],
   "source": [
    "links = []\n",
    "for i in range(1,10):\n",
    "    result = requests.get('https://www.cardmarket.com/en/YuGiOh/Products/Singles/Maximum-Gold-El-Dorado?idCategory=5&idExpansion=4371&idRarity=0&sortBy=collectorsnumber_asc&site=' + str(i))\n",
    "    src = result.content\n",
    "    soup = BeautifulSoup(src, 'html.parser')\n",
    "    card_price_info = soup.find_all(attrs = {'class':'col'})\n",
    "    for entry in card_price_info:\n",
    "        if entry.find('a') != None:\n",
    "            jeff = entry.find('a')\n",
    "            if (jeff.attrs['href'] != 'https://www.facebook.com/CardmarketYugioh') and (jeff.attrs['href'] != '/en/YuGiOh/Policies/GeneralTermsAndConditions'):\n",
    "                links.append('https://www.cardmarket.com/' + jeff.attrs['href'])        \n",
    "df['cardmarket url'] = links"
   ]
  },
  {
   "cell_type": "code",
   "execution_count": 25,
   "id": "997c1c54",
   "metadata": {},
   "outputs": [
    {
     "name": "stdout",
     "output_type": "stream",
     "text": [
      "     Unnamed: 0      Number                         Name  \\\n",
      "0             0  MP22-EN001  \"Armed Dragon Thunder LV10\"   \n",
      "1             1  MP22-EN002   \"Armed Dragon Thunder LV7\"   \n",
      "2             2  MP22-EN003   \"Armed Dragon Thunder LV5\"   \n",
      "3             3  MP22-EN004   \"Armed Dragon Thunder LV3\"   \n",
      "4             4  MP22-EN005    \"Armed Dragon LV10 White\"   \n",
      "..          ...         ...                          ...   \n",
      "270         270  MP22-EN271      \"Link into the VRAINS!\"   \n",
      "271         271  MP22-EN272         \"Soul Energy MAX!!!\"   \n",
      "272         272  MP22-EN273        \"The Revived Sky God\"   \n",
      "273         273  MP22-EN274      \"The Breaking Ruin God\"   \n",
      "274         274  MP22-EN275           \"The True Sun God\"   \n",
      "\n",
      "                    Rarity          Category    Print  Number owned  \n",
      "0               Ultra Rare    Effect Monster  Reprint             2  \n",
      "1    Prismatic Secret Rare    Effect Monster  Reprint             1  \n",
      "2                   Common    Effect Monster  Reprint             4  \n",
      "3                   Common    Effect Monster  Reprint             5  \n",
      "4                     Rare    Effect Monster  Reprint             0  \n",
      "..                     ...               ...      ...           ...  \n",
      "270  Prismatic Secret Rare      Normal Spell      New             1  \n",
      "271             Ultra Rare       Normal Trap      New             2  \n",
      "272             Ultra Rare       Normal Trap      New             2  \n",
      "273             Ultra Rare  Quick-Play Spell      New             1  \n",
      "274             Ultra Rare  Continuous Spell      New             1  \n",
      "\n",
      "[275 rows x 7 columns]\n"
     ]
    }
   ],
   "source": [
    "print(df)"
   ]
  },
  {
   "cell_type": "code",
   "execution_count": 26,
   "id": "a65cb91f",
   "metadata": {},
   "outputs": [],
   "source": [
    "df_common = df[df[\"Rarity\"] == \"Common\"]\n",
    "df_rare = df[df[\"Rarity\"] == \"Rare\"]\n",
    "df_super = df[df[\"Rarity\"] == \"Super Rare\"]\n",
    "df_ultra = df[df[\"Rarity\"] == \"Ultra Rare\"]\n",
    "df_secret = df[df[\"Rarity\"] == \"Prismatic Secret Rare\"]"
   ]
  },
  {
   "cell_type": "code",
   "execution_count": 32,
   "id": "4d1a9285",
   "metadata": {},
   "outputs": [
    {
     "data": {
      "text/plain": [
       "432"
      ]
     },
     "execution_count": 32,
     "metadata": {},
     "output_type": "execute_result"
    }
   ],
   "source": [
    "#what to do next?? I suppose get a way to get prices of this/ other recent sets and then get a way to automate that \n",
    "#and upload it to Kaggle"
   ]
  },
  {
   "cell_type": "code",
   "execution_count": null,
   "id": "f8959bd3",
   "metadata": {},
   "outputs": [],
   "source": []
  }
 ],
 "metadata": {
  "kernelspec": {
   "display_name": "Python 3",
   "language": "python",
   "name": "python3"
  },
  "language_info": {
   "codemirror_mode": {
    "name": "ipython",
    "version": 3
   },
   "file_extension": ".py",
   "mimetype": "text/x-python",
   "name": "python",
   "nbconvert_exporter": "python",
   "pygments_lexer": "ipython3",
   "version": "3.8.8"
  }
 },
 "nbformat": 4,
 "nbformat_minor": 5
}
